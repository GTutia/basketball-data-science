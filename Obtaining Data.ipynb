{
 "cells": [
  {
   "cell_type": "markdown",
   "id": "311876e2",
   "metadata": {},
   "source": [
    "### Obtaining player data per season"
   ]
  },
  {
   "cell_type": "code",
   "execution_count": 20,
   "id": "3a102beb",
   "metadata": {},
   "outputs": [],
   "source": [
    "import pandas as pd\n",
    "import os\n",
    "pd.options.display.max_colwidth = 100"
   ]
  },
  {
   "cell_type": "code",
   "execution_count": 266,
   "id": "eed23673",
   "metadata": {},
   "outputs": [],
   "source": [
    "### All these files were obtained through the 'Basketball Reference' website \n",
    "### in links like this: https://www.basketball-reference.com/leagues/NBA_2018_totals.html\n",
    "### These databases contains total stats for each player through each team on each of those seasons\n",
    "\n",
    "file_list = ['season_17_18.csv',\n",
    "             'season_18_19.csv',\n",
    "             'season_19_20.csv',\n",
    "             'season_20_21.csv',\n",
    "             'season_21_22.csv']"
   ]
  },
  {
   "cell_type": "code",
   "execution_count": 267,
   "id": "f591882d",
   "metadata": {},
   "outputs": [],
   "source": [
    "df_dict = {}"
   ]
  },
  {
   "cell_type": "code",
   "execution_count": 268,
   "id": "ac31f315",
   "metadata": {},
   "outputs": [],
   "source": [
    "for file in file_list:\n",
    "    actual_df =  pd.read_csv(file)\n",
    "    actual_df['Player Name'] = actual_df['Player'].str.split(pat = \"\\\\\", expand = True)[0]\n",
    "    actual_df['Player Link'] = 'https://www.basketball-reference.com/players/'+ actual_df['Player'].str.split(pat = \"\\\\\", expand = True)[1].str[0] +'/' + actual_df['Player'].str.split(pat = \"\\\\\", expand = True)[1]  + '.html'\n",
    "    actual_df['Season'] = file.split('.')[0]\n",
    "    df_dict[file.split('.')[0]] = actual_df"
   ]
  },
  {
   "cell_type": "code",
   "execution_count": 269,
   "id": "17586091",
   "metadata": {},
   "outputs": [],
   "source": [
    "df = pd.concat(df_dict, ignore_index = True)"
   ]
  },
  {
   "cell_type": "code",
   "execution_count": 270,
   "id": "531944ab",
   "metadata": {},
   "outputs": [
    {
     "data": {
      "text/plain": [
       "(2744, 33)"
      ]
     },
     "execution_count": 270,
     "metadata": {},
     "output_type": "execute_result"
    }
   ],
   "source": [
    "df.shape"
   ]
  },
  {
   "cell_type": "code",
   "execution_count": 271,
   "id": "de64d174",
   "metadata": {},
   "outputs": [
    {
     "name": "stdout",
     "output_type": "stream",
     "text": [
      "<class 'pandas.core.frame.DataFrame'>\n",
      "RangeIndex: 2744 entries, 0 to 2743\n",
      "Data columns (total 33 columns):\n",
      " #   Column       Non-Null Count  Dtype  \n",
      "---  ------       --------------  -----  \n",
      " 0   Rk           2744 non-null   int64  \n",
      " 1   Player       2744 non-null   object \n",
      " 2   Pos          2744 non-null   object \n",
      " 3   Age          2744 non-null   int64  \n",
      " 4   Tm           2744 non-null   object \n",
      " 5   G            2744 non-null   int64  \n",
      " 6   GS           2744 non-null   int64  \n",
      " 7   MP           2744 non-null   float64\n",
      " 8   FG           2744 non-null   float64\n",
      " 9   FGA          2744 non-null   float64\n",
      " 10  FG%          2725 non-null   float64\n",
      " 11  3P           2744 non-null   float64\n",
      " 12  3PA          2744 non-null   float64\n",
      " 13  3P%          2569 non-null   float64\n",
      " 14  2P           2744 non-null   float64\n",
      " 15  2PA          2744 non-null   float64\n",
      " 16  2P%          2697 non-null   float64\n",
      " 17  eFG%         2725 non-null   float64\n",
      " 18  FT           2744 non-null   float64\n",
      " 19  FTA          2744 non-null   float64\n",
      " 20  FT%          2576 non-null   float64\n",
      " 21  ORB          2744 non-null   float64\n",
      " 22  DRB          2744 non-null   float64\n",
      " 23  TRB          2744 non-null   float64\n",
      " 24  AST          2744 non-null   float64\n",
      " 25  STL          2744 non-null   float64\n",
      " 26  BLK          2744 non-null   float64\n",
      " 27  TOV          2744 non-null   float64\n",
      " 28  PF           2744 non-null   float64\n",
      " 29  PTS          2744 non-null   float64\n",
      " 30  Player Name  2744 non-null   object \n",
      " 31  Player Link  2744 non-null   object \n",
      " 32  Season       2744 non-null   object \n",
      "dtypes: float64(23), int64(4), object(6)\n",
      "memory usage: 707.6+ KB\n"
     ]
    }
   ],
   "source": [
    "df.info()"
   ]
  },
  {
   "cell_type": "code",
   "execution_count": 272,
   "id": "7c8b2c46",
   "metadata": {},
   "outputs": [
    {
     "data": {
      "text/html": [
       "<div>\n",
       "<style scoped>\n",
       "    .dataframe tbody tr th:only-of-type {\n",
       "        vertical-align: middle;\n",
       "    }\n",
       "\n",
       "    .dataframe tbody tr th {\n",
       "        vertical-align: top;\n",
       "    }\n",
       "\n",
       "    .dataframe thead th {\n",
       "        text-align: right;\n",
       "    }\n",
       "</style>\n",
       "<table border=\"1\" class=\"dataframe\">\n",
       "  <thead>\n",
       "    <tr style=\"text-align: right;\">\n",
       "      <th></th>\n",
       "      <th>Rk</th>\n",
       "      <th>Player</th>\n",
       "      <th>Pos</th>\n",
       "      <th>Age</th>\n",
       "      <th>Tm</th>\n",
       "      <th>G</th>\n",
       "      <th>GS</th>\n",
       "      <th>MP</th>\n",
       "      <th>FG</th>\n",
       "      <th>FGA</th>\n",
       "      <th>...</th>\n",
       "      <th>TRB</th>\n",
       "      <th>AST</th>\n",
       "      <th>STL</th>\n",
       "      <th>BLK</th>\n",
       "      <th>TOV</th>\n",
       "      <th>PF</th>\n",
       "      <th>PTS</th>\n",
       "      <th>Player Name</th>\n",
       "      <th>Player Link</th>\n",
       "      <th>Season</th>\n",
       "    </tr>\n",
       "  </thead>\n",
       "  <tbody>\n",
       "    <tr>\n",
       "      <th>2739</th>\n",
       "      <td>601</td>\n",
       "      <td>Thaddeus Young\\youngth01</td>\n",
       "      <td>PF</td>\n",
       "      <td>33</td>\n",
       "      <td>TOT</td>\n",
       "      <td>52</td>\n",
       "      <td>1</td>\n",
       "      <td>16.3</td>\n",
       "      <td>2.7</td>\n",
       "      <td>5.2</td>\n",
       "      <td>...</td>\n",
       "      <td>4.0</td>\n",
       "      <td>2.0</td>\n",
       "      <td>1.0</td>\n",
       "      <td>0.3</td>\n",
       "      <td>1.0</td>\n",
       "      <td>1.6</td>\n",
       "      <td>6.2</td>\n",
       "      <td>Thaddeus Young</td>\n",
       "      <td>https://www.basketball-reference.com/players/y/youngth01.html</td>\n",
       "      <td>season_21_22</td>\n",
       "    </tr>\n",
       "    <tr>\n",
       "      <th>2740</th>\n",
       "      <td>602</td>\n",
       "      <td>Trae Young\\youngtr01</td>\n",
       "      <td>PG</td>\n",
       "      <td>23</td>\n",
       "      <td>ATL</td>\n",
       "      <td>76</td>\n",
       "      <td>76</td>\n",
       "      <td>34.9</td>\n",
       "      <td>9.4</td>\n",
       "      <td>20.3</td>\n",
       "      <td>...</td>\n",
       "      <td>3.7</td>\n",
       "      <td>9.7</td>\n",
       "      <td>0.9</td>\n",
       "      <td>0.1</td>\n",
       "      <td>4.0</td>\n",
       "      <td>1.7</td>\n",
       "      <td>28.4</td>\n",
       "      <td>Trae Young</td>\n",
       "      <td>https://www.basketball-reference.com/players/y/youngtr01.html</td>\n",
       "      <td>season_21_22</td>\n",
       "    </tr>\n",
       "    <tr>\n",
       "      <th>2741</th>\n",
       "      <td>603</td>\n",
       "      <td>Omer Yurtseven\\yurtsom01</td>\n",
       "      <td>C</td>\n",
       "      <td>23</td>\n",
       "      <td>MIA</td>\n",
       "      <td>56</td>\n",
       "      <td>12</td>\n",
       "      <td>12.6</td>\n",
       "      <td>2.3</td>\n",
       "      <td>4.4</td>\n",
       "      <td>...</td>\n",
       "      <td>5.3</td>\n",
       "      <td>0.9</td>\n",
       "      <td>0.3</td>\n",
       "      <td>0.4</td>\n",
       "      <td>0.7</td>\n",
       "      <td>1.5</td>\n",
       "      <td>5.3</td>\n",
       "      <td>Omer Yurtseven</td>\n",
       "      <td>https://www.basketball-reference.com/players/y/yurtsom01.html</td>\n",
       "      <td>season_21_22</td>\n",
       "    </tr>\n",
       "    <tr>\n",
       "      <th>2742</th>\n",
       "      <td>604</td>\n",
       "      <td>Cody Zeller\\zelleco01</td>\n",
       "      <td>C</td>\n",
       "      <td>29</td>\n",
       "      <td>POR</td>\n",
       "      <td>27</td>\n",
       "      <td>0</td>\n",
       "      <td>13.1</td>\n",
       "      <td>1.9</td>\n",
       "      <td>3.3</td>\n",
       "      <td>...</td>\n",
       "      <td>4.6</td>\n",
       "      <td>0.8</td>\n",
       "      <td>0.3</td>\n",
       "      <td>0.2</td>\n",
       "      <td>0.7</td>\n",
       "      <td>2.1</td>\n",
       "      <td>5.2</td>\n",
       "      <td>Cody Zeller</td>\n",
       "      <td>https://www.basketball-reference.com/players/z/zelleco01.html</td>\n",
       "      <td>season_21_22</td>\n",
       "    </tr>\n",
       "    <tr>\n",
       "      <th>2743</th>\n",
       "      <td>605</td>\n",
       "      <td>Ivica Zubac\\zubaciv01</td>\n",
       "      <td>C</td>\n",
       "      <td>24</td>\n",
       "      <td>LAC</td>\n",
       "      <td>76</td>\n",
       "      <td>76</td>\n",
       "      <td>24.4</td>\n",
       "      <td>4.1</td>\n",
       "      <td>6.5</td>\n",
       "      <td>...</td>\n",
       "      <td>8.5</td>\n",
       "      <td>1.6</td>\n",
       "      <td>0.5</td>\n",
       "      <td>1.0</td>\n",
       "      <td>1.5</td>\n",
       "      <td>2.7</td>\n",
       "      <td>10.3</td>\n",
       "      <td>Ivica Zubac</td>\n",
       "      <td>https://www.basketball-reference.com/players/z/zubaciv01.html</td>\n",
       "      <td>season_21_22</td>\n",
       "    </tr>\n",
       "  </tbody>\n",
       "</table>\n",
       "<p>5 rows × 33 columns</p>\n",
       "</div>"
      ],
      "text/plain": [
       "       Rk                    Player Pos  Age   Tm   G  GS    MP   FG   FGA  \\\n",
       "2739  601  Thaddeus Young\\youngth01  PF   33  TOT  52   1  16.3  2.7   5.2   \n",
       "2740  602      Trae Young\\youngtr01  PG   23  ATL  76  76  34.9  9.4  20.3   \n",
       "2741  603  Omer Yurtseven\\yurtsom01   C   23  MIA  56  12  12.6  2.3   4.4   \n",
       "2742  604     Cody Zeller\\zelleco01   C   29  POR  27   0  13.1  1.9   3.3   \n",
       "2743  605     Ivica Zubac\\zubaciv01   C   24  LAC  76  76  24.4  4.1   6.5   \n",
       "\n",
       "      ...  TRB  AST  STL  BLK  TOV   PF   PTS     Player Name  \\\n",
       "2739  ...  4.0  2.0  1.0  0.3  1.0  1.6   6.2  Thaddeus Young   \n",
       "2740  ...  3.7  9.7  0.9  0.1  4.0  1.7  28.4      Trae Young   \n",
       "2741  ...  5.3  0.9  0.3  0.4  0.7  1.5   5.3  Omer Yurtseven   \n",
       "2742  ...  4.6  0.8  0.3  0.2  0.7  2.1   5.2     Cody Zeller   \n",
       "2743  ...  8.5  1.6  0.5  1.0  1.5  2.7  10.3     Ivica Zubac   \n",
       "\n",
       "                                                        Player Link  \\\n",
       "2739  https://www.basketball-reference.com/players/y/youngth01.html   \n",
       "2740  https://www.basketball-reference.com/players/y/youngtr01.html   \n",
       "2741  https://www.basketball-reference.com/players/y/yurtsom01.html   \n",
       "2742  https://www.basketball-reference.com/players/z/zelleco01.html   \n",
       "2743  https://www.basketball-reference.com/players/z/zubaciv01.html   \n",
       "\n",
       "            Season  \n",
       "2739  season_21_22  \n",
       "2740  season_21_22  \n",
       "2741  season_21_22  \n",
       "2742  season_21_22  \n",
       "2743  season_21_22  \n",
       "\n",
       "[5 rows x 33 columns]"
      ]
     },
     "execution_count": 272,
     "metadata": {},
     "output_type": "execute_result"
    }
   ],
   "source": [
    "df.tail()"
   ]
  },
  {
   "cell_type": "code",
   "execution_count": 273,
   "id": "6dc94569",
   "metadata": {},
   "outputs": [
    {
     "data": {
      "text/plain": [
       "season_21_22    605\n",
       "season_20_21    540\n",
       "season_17_18    540\n",
       "season_18_19    530\n",
       "season_19_20    529\n",
       "Name: Season, dtype: int64"
      ]
     },
     "execution_count": 273,
     "metadata": {},
     "output_type": "execute_result"
    }
   ],
   "source": [
    "df['Season'].value_counts()"
   ]
  },
  {
   "cell_type": "code",
   "execution_count": 274,
   "id": "46d65b8f",
   "metadata": {},
   "outputs": [],
   "source": [
    "df.to_csv('players_stats_by_season.csv', index = False)"
   ]
  },
  {
   "cell_type": "markdown",
   "id": "ed02adc3",
   "metadata": {},
   "source": [
    "### Obtaining more player info\n",
    "Here we are going to use a webscrapping library to gather data"
   ]
  },
  {
   "cell_type": "code",
   "execution_count": 29,
   "id": "d9918c6b",
   "metadata": {},
   "outputs": [],
   "source": [
    "from urllib.request import urlopen\n",
    "from bs4 import BeautifulSoup"
   ]
  },
  {
   "cell_type": "code",
   "execution_count": 250,
   "id": "3ca1cdc9",
   "metadata": {},
   "outputs": [],
   "source": [
    "height_list = []\n",
    "weight_list = []\n",
    "experience_list = []\n",
    "birth_date_list = []\n",
    "player_link_list = []"
   ]
  },
  {
   "cell_type": "code",
   "execution_count": null,
   "id": "05d963d9",
   "metadata": {},
   "outputs": [],
   "source": [
    "for player_link in df['Player Link'].unique():\n",
    "    html = urlopen(player_link)\n",
    "    bs = BeautifulSoup(html, 'html.parser')\n",
    "    \n",
    "    height_list.append(int(bs.find(attrs={\"itemprop\":\"height\"}).find_parent().contents[3].string.split('(')[1].split('c')[0]))\n",
    "    weight_list.append(int(bs.find(attrs={\"itemprop\":\"height\"}).find_parent().contents[3].string.split(',\\xa0')[1].split('k')[0]))\n",
    "    experience_list.append(bs.find(attrs={\"itemprop\":\"height\"}).parent.find_next_siblings(\"p\")[-1].contents[-1].split('\\xa0')[1].split('\\n')[0])\n",
    "    birth_date_list.append(bs.find('span',attrs={\"itemprop\":\"birthDate\"})['data-birth'])\n",
    "    \n",
    "    player_link_list.append(player_link)"
   ]
  },
  {
   "cell_type": "code",
   "execution_count": 275,
   "id": "28aaac5c",
   "metadata": {},
   "outputs": [],
   "source": [
    "df_player_info = pd.DataFrame(data = {'Player Link':player_link_list,\n",
    "                                      'Weight in kg':weight_list,\n",
    "                                      'Height in cm':height_list,\n",
    "                                      'Birth Date':birth_date_list,\n",
    "                                      'Experience':experience_list})"
   ]
  },
  {
   "cell_type": "code",
   "execution_count": 276,
   "id": "a3e231c9",
   "metadata": {},
   "outputs": [],
   "source": [
    "df_player_info = df_player_info.merge(df[['Player Name', 'Player Link']].drop_duplicates(), on = 'Player Link')"
   ]
  },
  {
   "cell_type": "code",
   "execution_count": 277,
   "id": "5e96f9b0",
   "metadata": {},
   "outputs": [],
   "source": [
    "df_player_info.to_csv('player_info.csv', index = False)"
   ]
  },
  {
   "cell_type": "code",
   "execution_count": null,
   "id": "52f7aa6a",
   "metadata": {},
   "outputs": [],
   "source": []
  }
 ],
 "metadata": {
  "kernelspec": {
   "display_name": "Python 3",
   "language": "python",
   "name": "python3"
  },
  "language_info": {
   "codemirror_mode": {
    "name": "ipython",
    "version": 3
   },
   "file_extension": ".py",
   "mimetype": "text/x-python",
   "name": "python",
   "nbconvert_exporter": "python",
   "pygments_lexer": "ipython3",
   "version": "3.8.8"
  }
 },
 "nbformat": 4,
 "nbformat_minor": 5
}
